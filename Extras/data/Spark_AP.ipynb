{
 "cells": [
  {
   "cell_type": "markdown",
   "id": "972a11dc-717f-4330-b52e-dc732e8b6962",
   "metadata": {},
   "source": [
    "# Instalando pacotes adicionais"
   ]
  },
  {
   "cell_type": "code",
   "execution_count": 1,
   "id": "2f6dd218-18e4-4a39-a711-87abdce95a0d",
   "metadata": {},
   "outputs": [],
   "source": [
    "from pyspark.sql import SparkSession\n",
    "from pyspark.sql.functions import col, when\n",
    "from pyspark.conf import SparkConf\n",
    "from pyspark.ml.feature import VectorAssembler, OneHotEncoder, StringIndexer, UnivariateFeatureSelector\n",
    "from pyspark.ml.classification import LinearSVC\n",
    "from pyspark.ml.evaluation import MulticlassClassificationEvaluator\n",
    "from pyspark.ml.tuning import CrossValidator, ParamGridBuilder"
   ]
  },
  {
   "cell_type": "markdown",
   "id": "2d16826b-b0af-4ba6-b586-20291f601585",
   "metadata": {},
   "source": [
    "# Iniciando sessão no Spark"
   ]
  },
  {
   "cell_type": "code",
   "execution_count": 2,
   "id": "1c3cdd4e-aab1-47b3-a59d-5a2a9518e438",
   "metadata": {},
   "outputs": [
    {
     "data": {
      "text/html": [
       "\n",
       "            <div>\n",
       "                <p><b>SparkSession - in-memory</b></p>\n",
       "                \n",
       "        <div>\n",
       "            <p><b>SparkContext</b></p>\n",
       "\n",
       "            <p><a href=\"http://9571e241cc7a:4040\">Spark UI</a></p>\n",
       "\n",
       "            <dl>\n",
       "              <dt>Version</dt>\n",
       "                <dd><code>v3.2.1</code></dd>\n",
       "              <dt>Master</dt>\n",
       "                <dd><code>spark://c56150f4d1d4:7077</code></dd>\n",
       "              <dt>AppName</dt>\n",
       "                <dd><code>Análise De Dados Spark</code></dd>\n",
       "            </dl>\n",
       "        </div>\n",
       "        \n",
       "            </div>\n",
       "        "
      ],
      "text/plain": [
       "<pyspark.sql.session.SparkSession at 0x7f65250ecb80>"
      ]
     },
     "execution_count": 2,
     "metadata": {},
     "output_type": "execute_result"
    }
   ],
   "source": [
    "file_path = 'file:////home/jovyan/work/'\n",
    "spark_master_url = 'spark://c56150f4d1d4:7077'\n",
    "conf = SparkConf().setAll([\n",
    "    ('spark.master', spark_master_url),\n",
    "    ('spark.app.name', 'Análise De Dados Spark'),\n",
    "])\n",
    "\n",
    "spark = SparkSession.builder.config(conf=conf).getOrCreate()\n",
    "spark"
   ]
  },
  {
   "cell_type": "markdown",
   "id": "2b1fc339-edc6-4661-87f5-3095828084d5",
   "metadata": {},
   "source": [
    "# Carregando dados no Spark"
   ]
  },
  {
   "cell_type": "code",
   "execution_count": 3,
   "id": "bcda98fa-41db-4205-9104-62f7a438644b",
   "metadata": {},
   "outputs": [
    {
     "name": "stdout",
     "output_type": "stream",
     "text": [
      "root\n",
      " |-- age: integer (nullable = true)\n",
      " |-- workclass: string (nullable = true)\n",
      " |-- fnlwgt: integer (nullable = true)\n",
      " |-- education: string (nullable = true)\n",
      " |-- education-num: integer (nullable = true)\n",
      " |-- marital-status: string (nullable = true)\n",
      " |-- occupation: string (nullable = true)\n",
      " |-- relationship: string (nullable = true)\n",
      " |-- race: string (nullable = true)\n",
      " |-- sex: string (nullable = true)\n",
      " |-- capital-gain: integer (nullable = true)\n",
      " |-- capital-loss: integer (nullable = true)\n",
      " |-- hours-per-week: integer (nullable = true)\n",
      " |-- native-country: string (nullable = true)\n",
      " |-- income: string (nullable = true)\n",
      "\n"
     ]
    }
   ],
   "source": [
    "df = spark.read.csv(file_path + 'Datasets/adult.csv', \n",
    "                    sep=',', \n",
    "                    header=True, \n",
    "                    inferSchema=True, \n",
    "                    encoding='ISO-8859-1',\n",
    "                    nullValue='?',\n",
    "                    ignoreLeadingWhiteSpace=True,\n",
    "                    ignoreTrailingWhiteSpace=True)\n",
    "df.createOrReplaceTempView('adult')\n",
    "df.printSchema()"
   ]
  },
  {
   "cell_type": "markdown",
   "id": "d17a5596-5089-4327-b020-00a48264de03",
   "metadata": {},
   "source": [
    "# Prévia da base de dados"
   ]
  },
  {
   "cell_type": "code",
   "execution_count": 4,
   "id": "47716072-e0ea-4df4-8ef0-f90de4d24de3",
   "metadata": {},
   "outputs": [
    {
     "name": "stdout",
     "output_type": "stream",
     "text": [
      "32561\n",
      "+---+----------------+------+------------+-------------+--------------------+-----------------+-------------+------------------+------+------------+------------+--------------+--------------+------+\n",
      "|age|       workclass|fnlwgt|   education|education-num|      marital-status|       occupation| relationship|              race|   sex|capital-gain|capital-loss|hours-per-week|native-country|income|\n",
      "+---+----------------+------+------------+-------------+--------------------+-----------------+-------------+------------------+------+------------+------------+--------------+--------------+------+\n",
      "| 39|       State-gov| 77516|   Bachelors|           13|       Never-married|     Adm-clerical|Not-in-family|             White|  Male|        2174|           0|            40| United-States| <=50K|\n",
      "| 50|Self-emp-not-inc| 83311|   Bachelors|           13|  Married-civ-spouse|  Exec-managerial|      Husband|             White|  Male|           0|           0|            13| United-States| <=50K|\n",
      "| 38|         Private|215646|     HS-grad|            9|            Divorced|Handlers-cleaners|Not-in-family|             White|  Male|           0|           0|            40| United-States| <=50K|\n",
      "| 53|         Private|234721|        11th|            7|  Married-civ-spouse|Handlers-cleaners|      Husband|             Black|  Male|           0|           0|            40| United-States| <=50K|\n",
      "| 28|         Private|338409|   Bachelors|           13|  Married-civ-spouse|   Prof-specialty|         Wife|             Black|Female|           0|           0|            40|          Cuba| <=50K|\n",
      "| 37|         Private|284582|     Masters|           14|  Married-civ-spouse|  Exec-managerial|         Wife|             White|Female|           0|           0|            40| United-States| <=50K|\n",
      "| 49|         Private|160187|         9th|            5|Married-spouse-ab...|    Other-service|Not-in-family|             Black|Female|           0|           0|            16|       Jamaica| <=50K|\n",
      "| 52|Self-emp-not-inc|209642|     HS-grad|            9|  Married-civ-spouse|  Exec-managerial|      Husband|             White|  Male|           0|           0|            45| United-States|  >50K|\n",
      "| 31|         Private| 45781|     Masters|           14|       Never-married|   Prof-specialty|Not-in-family|             White|Female|       14084|           0|            50| United-States|  >50K|\n",
      "| 42|         Private|159449|   Bachelors|           13|  Married-civ-spouse|  Exec-managerial|      Husband|             White|  Male|        5178|           0|            40| United-States|  >50K|\n",
      "| 37|         Private|280464|Some-college|           10|  Married-civ-spouse|  Exec-managerial|      Husband|             Black|  Male|           0|           0|            80| United-States|  >50K|\n",
      "| 30|       State-gov|141297|   Bachelors|           13|  Married-civ-spouse|   Prof-specialty|      Husband|Asian-Pac-Islander|  Male|           0|           0|            40|         India|  >50K|\n",
      "| 23|         Private|122272|   Bachelors|           13|       Never-married|     Adm-clerical|    Own-child|             White|Female|           0|           0|            30| United-States| <=50K|\n",
      "| 32|         Private|205019|  Assoc-acdm|           12|       Never-married|            Sales|Not-in-family|             Black|  Male|           0|           0|            50| United-States| <=50K|\n",
      "| 40|         Private|121772|   Assoc-voc|           11|  Married-civ-spouse|     Craft-repair|      Husband|Asian-Pac-Islander|  Male|           0|           0|            40|          null|  >50K|\n",
      "+---+----------------+------+------------+-------------+--------------------+-----------------+-------------+------------------+------+------------+------------+--------------+--------------+------+\n",
      "only showing top 15 rows\n",
      "\n"
     ]
    }
   ],
   "source": [
    "print(df.count())\n",
    "df.show(15)"
   ]
  },
  {
   "cell_type": "markdown",
   "id": "7db2df0d-9ff9-4add-8dd7-651c767fcbb3",
   "metadata": {},
   "source": [
    "# Detectando quais colunas possuem variáveis nulas."
   ]
  },
  {
   "cell_type": "code",
   "execution_count": 5,
   "id": "65ec06a1-d0bc-4ff3-96da-a1336a18e368",
   "metadata": {},
   "outputs": [
    {
     "data": {
      "text/plain": [
       "['workclass', 'occupation', 'native-country']"
      ]
     },
     "execution_count": 5,
     "metadata": {},
     "output_type": "execute_result"
    }
   ],
   "source": [
    "columns_with_null = []\n",
    "for c in df.columns:\n",
    "    if df.filter(f'`{c}` IS NULL').count() > 0:\n",
    "        columns_with_null.append(c)\n",
    "columns_with_null"
   ]
  },
  {
   "cell_type": "markdown",
   "id": "a40a5d7d-b989-4c4f-ab65-125e273eb215",
   "metadata": {},
   "source": [
    "# Substituindo os missing values \n",
    "- média: para variáveis numéricas\n",
    "- moda: variáveis categóricas"
   ]
  },
  {
   "cell_type": "code",
   "execution_count": 6,
   "id": "6018c83b-7b22-495d-a354-1750be88880a",
   "metadata": {},
   "outputs": [
    {
     "data": {
      "text/plain": [
       "[]"
      ]
     },
     "execution_count": 6,
     "metadata": {},
     "output_type": "execute_result"
    }
   ],
   "source": [
    "for n in columns_with_null:\n",
    "    if dict(df.dtypes)[n] == 'string':\n",
    "        moda = spark.sql(f'select `{n}`, count(1) as moda from adult group by `{n}` order by moda desc').collect()[0][0]\n",
    "        df = df.withColumn(n, when(col(n).isNull(), moda).otherwise(col(n)))\n",
    "    elif dict(df.dtypes)[n] == 'double':\n",
    "        media = spark.sql(f'select avg(`{n}`) as media from adult').collect()[0][0]\n",
    "        df = df.withColumn(n, when(col(n).isNull(), media).otherwise(col(n)))\n",
    "\n",
    "columns_with_null = []\n",
    "for c in df.columns:\n",
    "    if df.filter(f'`{c}` IS NULL').count() > 0:\n",
    "        columns_with_null.append(c)\n",
    "columns_with_null"
   ]
  },
  {
   "cell_type": "markdown",
   "id": "919ca473-a0f5-4877-9853-685c45b34f3e",
   "metadata": {},
   "source": [
    "# Transformando a variável native-country em binária \n",
    "Optei por separar a população em nativos e estrangeiros (United States, Foreign Country)"
   ]
  },
  {
   "cell_type": "code",
   "execution_count": 7,
   "id": "3bcac65a-22ee-437c-a471-8603d3c60f58",
   "metadata": {},
   "outputs": [
    {
     "name": "stdout",
     "output_type": "stream",
     "text": [
      "+---------------+--------+\n",
      "| native-country|count(1)|\n",
      "+---------------+--------+\n",
      "|  United-States|   29753|\n",
      "|Foreign-Country|    2808|\n",
      "+---------------+--------+\n",
      "\n"
     ]
    }
   ],
   "source": [
    "n = 'native-country'\n",
    "df = df.withColumn(n, when(col(n).contains('United-States'), col(n)).otherwise('Foreign-Country'))\n",
    "df.createOrReplaceTempView('adult')\n",
    "spark.sql(f'select `{n}`, count(1) from adult group by `{n}`').show()"
   ]
  },
  {
   "cell_type": "markdown",
   "id": "31627ea2-f6b5-4145-91c4-060acdcb9a6a",
   "metadata": {},
   "source": [
    "# Transformando variáveis categórias não ordinais em dummies"
   ]
  },
  {
   "cell_type": "code",
   "execution_count": 8,
   "id": "81b3f54a-8365-4678-b879-fc627852ac82",
   "metadata": {},
   "outputs": [],
   "source": [
    "indexer = StringIndexer()\n",
    "indexer.setInputCols(['workclass', 'marital-status', 'occupation', 'relationship', 'race'])\n",
    "indexer.setOutputCols(['workclass-num', 'marital-status-num', 'occupation-num', 'relationship-num', 'race-num'])\n",
    "df2 = indexer.fit(df).transform(df)\n",
    "df2 = df2.drop('education', 'workclass', 'marital-status', 'occupation', 'relationship', 'race')\n",
    "\n",
    "one = OneHotEncoder()\n",
    "one.setInputCols(['workclass-num', 'marital-status-num', 'occupation-num', 'relationship-num', 'race-num'])\n",
    "one.setOutputCols(['workclass-vec', 'marital-status-vec', 'occupation-vec', 'relationship-vec', 'race-vec'])\n",
    "df2 = one.fit(df2).transform(df2)\n",
    "\n",
    "df2 = df2.drop('workclass-num', 'marital-status-num', 'occupation-num', 'relationship-num', 'race-num')"
   ]
  },
  {
   "cell_type": "markdown",
   "id": "a5084189-f941-4d60-a9f3-40381175d0d3",
   "metadata": {},
   "source": [
    "# Transformando variáveis categóricas binárias em 0s e 1s"
   ]
  },
  {
   "cell_type": "code",
   "execution_count": 9,
   "id": "9c53367a-826c-4695-8828-0e7dd02dbdc2",
   "metadata": {},
   "outputs": [
    {
     "name": "stdout",
     "output_type": "stream",
     "text": [
      "+---+------+-------------+------------+------------+--------------+-------------+------------------+--------------+----------------+-------------+-------+------------------+----------+\n",
      "|age|fnlwgt|education-num|capital-gain|capital-loss|hours-per-week|workclass-vec|marital-status-vec|occupation-vec|relationship-vec|     race-vec|sex-num|native-country-num|income-num|\n",
      "+---+------+-------------+------------+------------+--------------+-------------+------------------+--------------+----------------+-------------+-------+------------------+----------+\n",
      "| 39| 77516|           13|        2174|           0|            40|(7,[3],[1.0])|     (6,[1],[1.0])|(13,[3],[1.0])|   (5,[1],[1.0])|(4,[0],[1.0])|      0|                 0|         1|\n",
      "| 50| 83311|           13|           0|           0|            13|(7,[1],[1.0])|     (6,[0],[1.0])|(13,[2],[1.0])|   (5,[0],[1.0])|(4,[0],[1.0])|      0|                 0|         1|\n",
      "| 38|215646|            9|           0|           0|            40|(7,[0],[1.0])|     (6,[2],[1.0])|(13,[8],[1.0])|   (5,[1],[1.0])|(4,[0],[1.0])|      0|                 0|         1|\n",
      "| 53|234721|            7|           0|           0|            40|(7,[0],[1.0])|     (6,[0],[1.0])|(13,[8],[1.0])|   (5,[0],[1.0])|(4,[1],[1.0])|      0|                 0|         1|\n",
      "| 28|338409|           13|           0|           0|            40|(7,[0],[1.0])|     (6,[0],[1.0])|(13,[0],[1.0])|   (5,[4],[1.0])|(4,[1],[1.0])|      1|                 1|         1|\n",
      "+---+------+-------------+------------+------------+--------------+-------------+------------------+--------------+----------------+-------------+-------+------------------+----------+\n",
      "only showing top 5 rows\n",
      "\n"
     ]
    }
   ],
   "source": [
    "df2 = df2.withColumn('sex-num', when(col('sex').contains('Male'), 0).otherwise(1))\n",
    "df2 = df2.withColumn('native-country-num', when(col('native-country').contains('United-States'), 0).otherwise(1))\n",
    "df2 = df2.withColumn('income-num', when(col('income').contains('>50K'), 0).otherwise(1))\n",
    "df2 = df2.drop('sex', 'native-country', 'income')\n",
    "df2.show(5)"
   ]
  },
  {
   "cell_type": "markdown",
   "id": "24645490-1071-4384-9e78-d02b8a586db7",
   "metadata": {},
   "source": [
    "# Fazendo a seleção de atributos antes de preprocessar os dados."
   ]
  },
  {
   "cell_type": "code",
   "execution_count": 10,
   "id": "3cee9ae6-03f6-4e33-b65b-e2e7c78e17f6",
   "metadata": {
    "tags": []
   },
   "outputs": [
    {
     "name": "stdout",
     "output_type": "stream",
     "text": [
      "+--------------------+----------+--------------------+\n",
      "|            features|income-num|   selected_features|\n",
      "+--------------------+----------+--------------------+\n",
      "|(43,[0,1,2,3,5,9,...|         1|(41,[0,1,2,4,8,13...|\n",
      "|(43,[0,1,2,5,7,13...|         1|(41,[0,1,4,6,12,2...|\n",
      "|(43,[0,1,2,5,6,15...|         1|(41,[0,1,4,5,14,2...|\n",
      "|(43,[0,1,2,5,6,13...|         1|(41,[0,1,4,5,12,2...|\n",
      "|(43,[0,1,2,5,6,13...|         1|(41,[0,1,4,5,12,1...|\n",
      "|(43,[0,1,2,5,6,13...|         1|(41,[0,1,4,5,12,2...|\n",
      "|(43,[0,1,2,5,6,18...|         1|(41,[0,1,4,5,17,2...|\n",
      "|(43,[0,1,2,5,7,13...|         0|(41,[0,1,4,6,12,2...|\n",
      "|(43,[0,1,2,3,5,6,...|         0|(41,[0,1,2,4,5,13...|\n",
      "|(43,[0,1,2,3,5,6,...|         0|(41,[0,1,2,4,5,12...|\n",
      "+--------------------+----------+--------------------+\n",
      "only showing top 10 rows\n",
      "\n"
     ]
    }
   ],
   "source": [
    "vec_assembler = VectorAssembler(inputCols=df2.columns[:-1], outputCol='features',handleInvalid='skip')\n",
    "df3 = vec_assembler.transform(df2).select('features', 'income-num')\n",
    "selector = UnivariateFeatureSelector(featuresCol='features', outputCol='selected_features', \n",
    "                                     labelCol='income-num', selectionMode='fpr')\n",
    "selector.setFeatureType(\"continuous\").setLabelType(\"continuous\")\n",
    "result = selector.fit(df3).transform(df3)\n",
    "result.show(10)\n",
    "result = result.drop('features')"
   ]
  },
  {
   "cell_type": "markdown",
   "id": "71e3ce9d-8840-46fd-8c68-015ef9a82559",
   "metadata": {},
   "source": [
    "# Aplicando o SVM sobre as Features selecionadas"
   ]
  },
  {
   "cell_type": "code",
   "execution_count": 11,
   "id": "d928d2bf-1281-47b4-9479-8811c7e8a29b",
   "metadata": {},
   "outputs": [
    {
     "name": "stdout",
     "output_type": "stream",
     "text": [
      "+----------+--------------------+--------------------+----------+\n",
      "|income-num|   selected_features|       rawPrediction|prediction|\n",
      "+----------+--------------------+--------------------+----------+\n",
      "|         0|(41,[0,1,2,4,5,12...|[-0.0912079966354...|       1.0|\n",
      "|         0|(41,[0,1,2,4,5,12...|[0.61099781070448...|       0.0|\n",
      "|         0|(41,[0,1,2,4,5,12...|[4.99189728201738...|       0.0|\n",
      "|         0|(41,[0,1,2,4,5,12...|[0.20455142387920...|       0.0|\n",
      "|         0|(41,[0,1,2,4,5,12...|[5.08403115384511...|       0.0|\n",
      "|         0|(41,[0,1,2,4,5,12...|[0.17798751749186...|       0.0|\n",
      "|         0|(41,[0,1,2,4,5,12...|[0.04780746964519...|       0.0|\n",
      "|         0|(41,[0,1,2,4,5,12...|[0.85951165310034...|       0.0|\n",
      "|         0|(41,[0,1,2,4,5,12...|[5.69050817308497...|       0.0|\n",
      "|         0|(41,[0,1,2,4,5,12...|[5.82238797831450...|       0.0|\n",
      "+----------+--------------------+--------------------+----------+\n",
      "only showing top 10 rows\n",
      "\n"
     ]
    }
   ],
   "source": [
    "svm = LinearSVC(featuresCol='selected_features', labelCol='income-num', maxIter=100,regParam=0.1)\n",
    "train, test = result.randomSplit([0.8, 0.2], 42)\n",
    "\n",
    "svm_model = svm.fit(train)\n",
    "predictions = svm_model.transform(test)\n",
    "\n",
    "predictions.show(10)"
   ]
  },
  {
   "cell_type": "markdown",
   "id": "c8404b60-8697-442a-b07a-b3c1a09e77f8",
   "metadata": {},
   "source": [
    "# Calculando acurácia do modelo"
   ]
  },
  {
   "cell_type": "code",
   "execution_count": 12,
   "id": "6b0c7cb6-24a3-43a2-bfd5-81de77dc46b5",
   "metadata": {},
   "outputs": [
    {
     "name": "stdout",
     "output_type": "stream",
     "text": [
      "0.8420971472629144\n"
     ]
    }
   ],
   "source": [
    "evaluator=MulticlassClassificationEvaluator(labelCol='income-num', predictionCol='prediction',\n",
    "                                                        metricName='accuracy')\n",
    "accuracy = evaluator.evaluate(predictions)\n",
    "print(str(accuracy))"
   ]
  },
  {
   "cell_type": "markdown",
   "id": "e283d0d1-53ed-420a-8525-fcafba842b63",
   "metadata": {},
   "source": [
    "# Aplicando Tuning sobre o modelo"
   ]
  },
  {
   "cell_type": "code",
   "execution_count": 13,
   "id": "4dd1621f-916c-4e5e-96d6-d6c0e3dc7368",
   "metadata": {},
   "outputs": [
    {
     "name": "stdout",
     "output_type": "stream",
     "text": [
      "0.8493446414803393\n"
     ]
    }
   ],
   "source": [
    "svm = LinearSVC(featuresCol='selected_features', labelCol='income-num')\n",
    "paramGrid = ParamGridBuilder().addGrid(svm.maxIter, [100, 500]) \\\n",
    "                              .addGrid(svm.regParam, [0.01, 0.1]) \\\n",
    "                              .build()\n",
    "acc_eval = MulticlassClassificationEvaluator(labelCol='income-num', predictionCol='prediction',\n",
    "                                                        metricName='accuracy')\n",
    "crossval = CrossValidator(estimator=svm,\n",
    "                          estimatorParamMaps=paramGrid,\n",
    "                          evaluator=acc_eval,\n",
    "                          numFolds=10,\n",
    "                          parallelism=2)\n",
    "\n",
    "\n",
    "cvModel = crossval.fit(train)\n",
    "predictions = cvModel.bestModel.transform(test)\n",
    "accuracy = acc_eval.evaluate(predictions)\n",
    "print(str(accuracy))"
   ]
  }
 ],
 "metadata": {
  "kernelspec": {
   "display_name": "Python 3 (ipykernel)",
   "language": "python",
   "name": "python3"
  },
  "language_info": {
   "codemirror_mode": {
    "name": "ipython",
    "version": 3
   },
   "file_extension": ".py",
   "mimetype": "text/x-python",
   "name": "python",
   "nbconvert_exporter": "python",
   "pygments_lexer": "ipython3",
   "version": "3.9.10"
  }
 },
 "nbformat": 4,
 "nbformat_minor": 5
}
